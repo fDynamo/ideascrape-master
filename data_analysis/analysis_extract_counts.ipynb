{
  "cells": [
    {
      "cell_type": "code",
      "execution_count": 1,
      "metadata": {},
      "outputs": [],
      "source": [
        "import pandas\n",
        "from custom_helpers_py.get_paths import get_out_folder\n",
        "import os.path"
      ]
    },
    {
      "cell_type": "code",
      "execution_count": 2,
      "metadata": {},
      "outputs": [],
      "source": [
        "def print_count_percentage(count: int, num_entries: int, message: str) -> str:\n",
        "    pct = count * 100 / num_entries\n",
        "    pct = \"{:10.2f}%\".format(pct)\n",
        "    print(message, count, pct)"
      ]
    },
    {
      "cell_type": "code",
      "execution_count": 3,
      "metadata": {},
      "outputs": [
        {
          "data": {
            "text/html": [
              "<div>\n",
              "<style scoped>\n",
              "    .dataframe tbody tr th:only-of-type {\n",
              "        vertical-align: middle;\n",
              "    }\n",
              "\n",
              "    .dataframe tbody tr th {\n",
              "        vertical-align: top;\n",
              "    }\n",
              "\n",
              "    .dataframe thead th {\n",
              "        text-align: right;\n",
              "    }\n",
              "</style>\n",
              "<table border=\"1\" class=\"dataframe\">\n",
              "  <thead>\n",
              "    <tr style=\"text-align: right;\">\n",
              "      <th></th>\n",
              "      <th>count_follower</th>\n",
              "    </tr>\n",
              "  </thead>\n",
              "  <tbody>\n",
              "    <tr>\n",
              "      <th>count</th>\n",
              "      <td>60317.000000</td>\n",
              "    </tr>\n",
              "    <tr>\n",
              "      <th>mean</th>\n",
              "      <td>64.109555</td>\n",
              "    </tr>\n",
              "    <tr>\n",
              "      <th>std</th>\n",
              "      <td>219.845752</td>\n",
              "    </tr>\n",
              "    <tr>\n",
              "      <th>min</th>\n",
              "      <td>0.000000</td>\n",
              "    </tr>\n",
              "    <tr>\n",
              "      <th>25%</th>\n",
              "      <td>1.000000</td>\n",
              "    </tr>\n",
              "    <tr>\n",
              "      <th>50%</th>\n",
              "      <td>4.000000</td>\n",
              "    </tr>\n",
              "    <tr>\n",
              "      <th>75%</th>\n",
              "      <td>42.000000</td>\n",
              "    </tr>\n",
              "    <tr>\n",
              "      <th>max</th>\n",
              "      <td>9280.000000</td>\n",
              "    </tr>\n",
              "  </tbody>\n",
              "</table>\n",
              "</div>"
            ],
            "text/plain": [
              "       count_follower\n",
              "count    60317.000000\n",
              "mean        64.109555\n",
              "std        219.845752\n",
              "min          0.000000\n",
              "25%          1.000000\n",
              "50%          4.000000\n",
              "75%         42.000000\n",
              "max       9280.000000"
            ]
          },
          "execution_count": 3,
          "metadata": {},
          "output_type": "execute_result"
        }
      ],
      "source": [
        "# Start PH analysis\n",
        "ph_extract_filepath = os.path.join(get_out_folder(\"source_extracts\"), \"ph_extract.csv\")\n",
        "ph_df = pandas.read_csv(ph_extract_filepath, encoding=\"utf-8\")\n",
        "NUM_PH_ENTRIES = len(ph_df)\n",
        "ph_df.describe()"
      ]
    },
    {
      "cell_type": "code",
      "execution_count": 4,
      "metadata": {},
      "outputs": [
        {
          "name": "stdout",
          "output_type": "stream",
          "text": [
            "PH with followers 53639      88.93%\n"
          ]
        },
        {
          "data": {
            "text/plain": [
              "count    53639.000000\n",
              "mean        72.091128\n",
              "std        231.892558\n",
              "min          1.000000\n",
              "25%          2.000000\n",
              "50%          5.000000\n",
              "75%         52.000000\n",
              "max       9280.000000\n",
              "Name: count_follower, dtype: float64"
            ]
          },
          "execution_count": 4,
          "metadata": {},
          "output_type": "execute_result"
        }
      ],
      "source": [
        "ph_with_followers_df = ph_df[ph_df[\"count_follower\"] > 0]\n",
        "print_count_percentage(len(ph_with_followers_df), NUM_PH_ENTRIES, \"PH with followers\")\n",
        "\n",
        "ph_with_followers_df.describe()[\"count_follower\"]"
      ]
    },
    {
      "cell_type": "code",
      "execution_count": 5,
      "metadata": {},
      "outputs": [
        {
          "data": {
            "text/html": [
              "<div>\n",
              "<style scoped>\n",
              "    .dataframe tbody tr th:only-of-type {\n",
              "        vertical-align: middle;\n",
              "    }\n",
              "\n",
              "    .dataframe tbody tr th {\n",
              "        vertical-align: top;\n",
              "    }\n",
              "\n",
              "    .dataframe thead th {\n",
              "        text-align: right;\n",
              "    }\n",
              "</style>\n",
              "<table border=\"1\" class=\"dataframe\">\n",
              "  <thead>\n",
              "    <tr style=\"text-align: right;\">\n",
              "      <th></th>\n",
              "      <th>count_save</th>\n",
              "    </tr>\n",
              "  </thead>\n",
              "  <tbody>\n",
              "    <tr>\n",
              "      <th>count</th>\n",
              "      <td>37575.000000</td>\n",
              "    </tr>\n",
              "    <tr>\n",
              "      <th>mean</th>\n",
              "      <td>8.380040</td>\n",
              "    </tr>\n",
              "    <tr>\n",
              "      <th>std</th>\n",
              "      <td>37.025724</td>\n",
              "    </tr>\n",
              "    <tr>\n",
              "      <th>min</th>\n",
              "      <td>0.000000</td>\n",
              "    </tr>\n",
              "    <tr>\n",
              "      <th>25%</th>\n",
              "      <td>0.000000</td>\n",
              "    </tr>\n",
              "    <tr>\n",
              "      <th>50%</th>\n",
              "      <td>0.000000</td>\n",
              "    </tr>\n",
              "    <tr>\n",
              "      <th>75%</th>\n",
              "      <td>2.000000</td>\n",
              "    </tr>\n",
              "    <tr>\n",
              "      <th>max</th>\n",
              "      <td>981.000000</td>\n",
              "    </tr>\n",
              "  </tbody>\n",
              "</table>\n",
              "</div>"
            ],
            "text/plain": [
              "         count_save\n",
              "count  37575.000000\n",
              "mean       8.380040\n",
              "std       37.025724\n",
              "min        0.000000\n",
              "25%        0.000000\n",
              "50%        0.000000\n",
              "75%        2.000000\n",
              "max      981.000000"
            ]
          },
          "execution_count": 5,
          "metadata": {},
          "output_type": "execute_result"
        }
      ],
      "source": [
        "# Start AIFT analysis\n",
        "aift_extract_filepath = os.path.join(get_out_folder(\"source_extracts\"), \"aift_extract.csv\")\n",
        "aift_df = pandas.read_csv(aift_extract_filepath, encoding=\"utf-8\")\n",
        "NUM_AIFT_ENTRIES = len(aift_df)\n",
        "aift_df.describe()"
      ]
    },
    {
      "cell_type": "code",
      "execution_count": 6,
      "metadata": {},
      "outputs": [
        {
          "name": "stdout",
          "output_type": "stream",
          "text": [
            "AIFT with saves 13832      36.81%\n"
          ]
        },
        {
          "data": {
            "text/plain": [
              "count    13832.000000\n",
              "mean        22.764604\n",
              "std         58.281952\n",
              "min          1.000000\n",
              "25%          1.000000\n",
              "50%          7.000000\n",
              "75%         22.000000\n",
              "max        981.000000\n",
              "Name: count_save, dtype: float64"
            ]
          },
          "execution_count": 6,
          "metadata": {},
          "output_type": "execute_result"
        }
      ],
      "source": [
        "aift_with_saves_df = aift_df[aift_df[\"count_save\"] > 0]\n",
        "print_count_percentage(len(aift_with_saves_df), NUM_AIFT_ENTRIES, \"AIFT with saves\")\n",
        "aift_with_saves_df.describe()[\"count_save\"]"
      ]
    }
  ],
  "metadata": {
    "kernelspec": {
      "display_name": ".venv",
      "language": "python",
      "name": "python3"
    },
    "language_info": {
      "codemirror_mode": {
        "name": "ipython",
        "version": 3
      },
      "file_extension": ".py",
      "mimetype": "text/x-python",
      "name": "python",
      "nbconvert_exporter": "python",
      "pygments_lexer": "ipython3",
      "version": "3.10.12"
    }
  },
  "nbformat": 4,
  "nbformat_minor": 2
}
